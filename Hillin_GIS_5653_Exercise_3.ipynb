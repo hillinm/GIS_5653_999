{
 "cells": [
  {
   "cell_type": "markdown",
   "metadata": {},
   "source": [
    "# 1. Section 1 - Variable Names:"
   ]
  },
  {
   "cell_type": "markdown",
   "metadata": {},
   "source": [
    "        Think of three examples for bad variable names:\n",
    "\n",
    "            Add the variable names to your notebook\n",
    "\n",
    "            Explain, why they are not a good choice\n",
    "\n",
    "        Think of three examples for good variable names:\n",
    "\n",
    "            Add the variable names to your notebook\n",
    "\n",
    "            Explain, why they are a good choice"
   ]
  },
  {
   "cell_type": "markdown",
   "metadata": {},
   "source": [
    "a = 10\n",
    "\n",
    "    This is not a good example because it's too vague and non-descriptive.\n",
    "\n",
    "1stnumber = 10\n",
    "\n",
    "    This is not a good example because it's vague and non-descriptive and starts with a number.\n",
    "    \n",
    "numberofstudents = 10\n",
    "\n",
    "    This is not a good example because it doesn't use underscores to seperate the words to add clarity."
   ]
  },
  {
   "cell_type": "markdown",
   "metadata": {},
   "source": [
    "number_of_students = 10\n",
    "\n",
    "    This is a good example because it desribes what the number is and uses underscore formatting.\n",
    "\n",
    "student_age = 10\n",
    "\n",
    "    This is a good example because it describes who's age and uses underscore formatting.\n",
    "    \n",
    "fourth_grade_students = 10\n",
    "\n",
    "    This is a good example because it's clear that we are using fourth grade students and uses underscore formatting."
   ]
  },
  {
   "cell_type": "markdown",
   "metadata": {},
   "source": [
    " # Section 2 - Variable Names and Readability of Code:"
   ]
  },
  {
   "cell_type": "markdown",
   "metadata": {},
   "source": [
    "        Provide an answer to the question: What do you think the code below was intended to achieve?\n",
    "        \n",
    "        Based on your answer to the question, rewrite the code making use of mnemonic variable names\n",
    "        \n",
    "        Would it be useful to include comments? Where? Please add comments to the code."
   ]
  },
  {
   "cell_type": "markdown",
   "metadata": {},
   "source": [
    "        x12yz = 40.0\n",
    "        x12yu = 12.5\n",
    "        x13yz = x12yz * x12yu\n",
    "        print(x13yz)"
   ]
  },
  {
   "cell_type": "markdown",
   "metadata": {},
   "source": [
    "The code above takes two numbers and multiplies them and displays the result to the terminal."
   ]
  },
  {
   "cell_type": "code",
   "execution_count": 9,
   "metadata": {},
   "outputs": [
    {
     "name": "stdout",
     "output_type": "stream",
     "text": [
      "On a daily basis, our company had 40 workers. That worked 12.5 hours in a day, for a total of 500.0 billable hours.\n"
     ]
    }
   ],
   "source": [
    "#This is the number of employees we hired for today.\n",
    "number_of_workers = 40 \n",
    "\n",
    "#This is the number of hours each employee worked today.\n",
    "hours_worked_day = 12.5 \n",
    "\n",
    "#This is the number of employees we hired today multiplied by the number\n",
    "#of hours each employee worked which gives us the total billable hours.\n",
    "total_hours_worked_day = number_of_workers * hours_worked_day\n",
    "\n",
    "#This is the output to the terminal.\n",
    "print(\"On a daily basis, our company had \" + str(number_of_workers) + \" workers. That worked \" + str(hours_worked_day)\n",
    "      + \" hours in a day, for a total of \" + str(total_hours_worked_day) + \" billable hours.\" )"
   ]
  },
  {
   "cell_type": "markdown",
   "metadata": {},
   "source": [
    "# Section 3 - String Methods:"
   ]
  },
  {
   "cell_type": "markdown",
   "metadata": {},
   "source": [
    "Search for Python documentation for string methods online\n",
    "\n",
    "Explore the different search results and select one that appeals to you\n",
    "\n",
    "Which criteria did you use to decide on one search result?\n",
    "\n",
    "Evaluate the list of string methods:\n",
    "\n",
    "        Which ones may be helpful in the context of geoprocessing?\n",
    "        \n",
    "        Add five string methods to your notebook\n",
    "        \n",
    "        Include a short description for each of the selected methods\n",
    "        \n",
    "        Add and run Python application examples for the chosen string methods\n",
    "        "
   ]
  },
  {
   "cell_type": "markdown",
   "metadata": {},
   "source": [
    "I like the W3Schools documentation.  I like that you can easily open the TryIt Editor and play with code without the fear of breaking anything and that it displays to the right side of the page.  I have dual screens so I can have the documentation open and the editor open.\n",
    "\n",
    "find() - This method finds the index of a given substring.\n",
    "\n",
    "join() - This method joins elements of an interable to the end of a string.\n",
    "\n",
    "replace() - This method replaces part of a string with a substring.\n",
    "\n",
    "rsplit() - This method splits a string.\n",
    "\n",
    "rstrip() - This method strips part of a substring off of a string."
   ]
  },
  {
   "cell_type": "code",
   "execution_count": 13,
   "metadata": {},
   "outputs": [
    {
     "name": "stdout",
     "output_type": "stream",
     "text": [
      "The comma in the coordinate is at index 7\n"
     ]
    }
   ],
   "source": [
    "#Given coordinate\n",
    "coordinate = \"-90.008, 38.905\"\n",
    "\n",
    "#Find the location of the comma in the coordinate\n",
    "lat_lon = coordinate.find(',')\n",
    "\n",
    "#Output to the terminal\n",
    "print(\"The comma in the coordinate is at index \" + str(lat_lon))"
   ]
  },
  {
   "cell_type": "code",
   "execution_count": 22,
   "metadata": {},
   "outputs": [
    {
     "name": "stdout",
     "output_type": "stream",
     "text": [
      "This is the location of my house -90.008,38.905\n"
     ]
    }
   ],
   "source": [
    "#Given coordinate\n",
    "coordinate = [\"-90.008\",\",\",\"38.905\"]\n",
    "\n",
    "#Join the strings in the coordinate library into one string\n",
    "lat_lon = \"\".join(coordinate)\n",
    "\n",
    "#Output to the terminal\n",
    "print(\"This is the location of my house \" + lat_lon)\n"
   ]
  },
  {
   "cell_type": "code",
   "execution_count": 23,
   "metadata": {},
   "outputs": [
    {
     "name": "stdout",
     "output_type": "stream",
     "text": [
      "This is the location of my house -90.008 / 38.905\n"
     ]
    }
   ],
   "source": [
    "#Given coordinate\n",
    "coordinate = \"-90.008, 38.905\"\n",
    "\n",
    "#Replace a comma with a forward slash\n",
    "lat_lon = coordinate.replace(\",\",\" /\")\n",
    "\n",
    "#Output to the terminal\n",
    "print(\"This is the location of my house \" + lat_lon)\n"
   ]
  },
  {
   "cell_type": "code",
   "execution_count": 26,
   "metadata": {},
   "outputs": [
    {
     "name": "stdout",
     "output_type": "stream",
     "text": [
      "['-90.008', '38.905']\n"
     ]
    }
   ],
   "source": [
    "#Given coordinate\n",
    "coordinate = \"-90.008,38.905\"\n",
    "\n",
    "#Split the coordinate into two strings at the comma\n",
    "lat_lon = coordinate.split(\",\")\n",
    "\n",
    "#Output to the terminal\n",
    "print(lat_lon)"
   ]
  },
  {
   "cell_type": "code",
   "execution_count": 29,
   "metadata": {},
   "outputs": [
    {
     "name": "stdout",
     "output_type": "stream",
     "text": [
      "-90.008, 38.905\n"
     ]
    }
   ],
   "source": [
    "#Given coordinate\n",
    "coordinate = \"    -90.008, 38.905\"\n",
    "\n",
    "#Strips the leading spaces at the beginning of the coordinate\n",
    "lat_lon = coordinate.strip(\" \")\n",
    "\n",
    "#Output to the terminal\n",
    "print(lat_lon)"
   ]
  },
  {
   "cell_type": "code",
   "execution_count": null,
   "metadata": {},
   "outputs": [],
   "source": []
  }
 ],
 "metadata": {
  "kernelspec": {
   "display_name": "ArcGISPro",
   "language": "Python",
   "name": "python3"
  },
  "language_info": {
   "file_extension": ".py",
   "name": "python",
   "version": "3"
  }
 },
 "nbformat": 4,
 "nbformat_minor": 2
}
