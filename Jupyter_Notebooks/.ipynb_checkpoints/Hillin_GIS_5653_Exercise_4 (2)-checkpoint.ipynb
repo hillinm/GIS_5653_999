{
 "cells": [
  {
   "cell_type": "code",
   "execution_count": 14,
   "metadata": {},
   "outputs": [
    {
     "name": "stdout",
     "output_type": "stream",
     "text": [
      "Good morning, Mark!\n",
      "Guten Morgen, Mark!\n",
      "Salve, Mark!\n"
     ]
    }
   ],
   "source": [
    "def greetEnglish(name):\n",
    "    \"\"\"Returns a good morning greeting in English.\"\"\"\n",
    "    print(\"Good morning, \" + str(name) + \"!\")\n",
    "    \n",
    "greetEnglish(\"Mark\")\n",
    "\n",
    "def greetGerman(name):\n",
    "    \"\"\"Returns a good morning greeting in German.\"\"\"\n",
    "    print(f\"Guten Morgen, {name}!\")\n",
    "    \n",
    "greetGerman(\"Mark\")\n",
    "\n",
    "def greetLatin(name):\n",
    "    \"\"\"Returns a good morning greeting in Latin.\"\"\"\n",
    "    print(\"Salve, {}!\".format(name))\n",
    "    \n",
    "greetLatin(\"Mark\")"
   ]
  },
  {
   "cell_type": "code",
   "execution_count": null,
   "metadata": {},
   "outputs": [],
   "source": []
  }
 ],
 "metadata": {
  "kernelspec": {
   "display_name": "ArcGISPro",
   "language": "Python",
   "name": "python3"
  },
  "language_info": {
   "file_extension": ".py",
   "name": "python",
   "version": "3"
  }
 },
 "nbformat": 4,
 "nbformat_minor": 2
}
