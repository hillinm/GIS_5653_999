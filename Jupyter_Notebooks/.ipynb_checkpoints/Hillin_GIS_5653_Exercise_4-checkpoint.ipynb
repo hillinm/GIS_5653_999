{
 "cells": [
  {
   "cell_type": "code",
   "execution_count": null,
   "metadata": {},
   "outputs": [],
   "source": [
    "import "
   ]
  },
  {
   "cell_type": "code",
   "execution_count": 19,
   "metadata": {},
   "outputs": [
    {
     "name": "stdout",
     "output_type": "stream",
     "text": [
      "Good morning, Mark!\n"
     ]
    }
   ],
   "source": [
    "def greetEnglish(name):\n",
    "    \"\"\"Returns a good morning greeting in English.\"\"\"\n",
    "    print(\"Good morning, \" + str(name) + \"!\")\n",
    "    \n",
    "greetEnglish(\"Mark\")    "
   ]
  },
  {
   "cell_type": "code",
   "execution_count": 21,
   "metadata": {},
   "outputs": [
    {
     "name": "stdout",
     "output_type": "stream",
     "text": [
      "Guten Morgen, Mark!\n"
     ]
    }
   ],
   "source": [
    "def greetGerman(name):\n",
    "    \"\"\"Returns a good morning greeting in German.\"\"\"\n",
    "    print(f\"Guten Morgen, {name}!\")\n",
    "\n",
    "greetGerman(\"Mark\")"
   ]
  },
  {
   "cell_type": "code",
   "execution_count": 25,
   "metadata": {},
   "outputs": [
    {
     "name": "stdout",
     "output_type": "stream",
     "text": [
      "Salve, Mark!\n"
     ]
    }
   ],
   "source": [
    "def greetLatin(name):\n",
    "    \"\"\"Returns a good morning greeting in Latin.\"\"\"\n",
    "    print(\"Salve, {}!\".format(name))\n",
    "    \n",
    "greetLatin(\"Mark\")    "
   ]
  },
  {
   "cell_type": "code",
   "execution_count": null,
   "metadata": {},
   "outputs": [],
   "source": []
  }
 ],
 "metadata": {
  "kernelspec": {
   "display_name": "ArcGISPro",
   "language": "Python",
   "name": "python3"
  },
  "language_info": {
   "file_extension": ".py",
   "name": "python",
   "version": "3"
  }
 },
 "nbformat": 4,
 "nbformat_minor": 2
}
