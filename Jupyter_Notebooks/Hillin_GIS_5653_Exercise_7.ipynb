{
 "cells": [
  {
   "cell_type": "markdown",
   "metadata": {},
   "source": [
    "# Section 1"
   ]
  },
  {
   "cell_type": "code",
   "execution_count": 8,
   "metadata": {},
   "outputs": [
    {
     "name": "stdout",
     "output_type": "stream",
     "text": [
      "Lowest value:  1\n",
      "Highest value:  9\n"
     ]
    }
   ],
   "source": [
    "erosionClass = [5, 3, 5, 7, 6, 9, 2, 1, 1, 2]  \n",
    "erosionClass.sort()  # Sort the numeric list \n",
    "\n",
    "for i in range((len(erosionClass))):\n",
    "    if i == 0:\n",
    "        print(\"Lowest value: \", erosionClass[i])\n",
    "    if i == len(erosionClass) - 1:\n",
    "        print(\"Highest value: \", erosionClass[i])"
   ]
  },
  {
   "cell_type": "markdown",
   "metadata": {},
   "source": [
    "# Section 2"
   ]
  },
  {
   "cell_type": "code",
   "execution_count": 9,
   "metadata": {},
   "outputs": [
    {
     "name": "stdout",
     "output_type": "stream",
     "text": [
      "[1, 1, 2, 2, 3, 5, 5, 6, 7, 9, 2]\n",
      "2\n",
      "[1, 1, 8, 2, 2, 3, 5, 5, 6, 7, 9, 2]\n",
      "[1, 1, 8, 2, 2, 3, 5, 5, 6, 7, 9, 2, 2, 3, 4]\n",
      "[1, 1, 8, 2, 2, 3, 5, 5, 6, 7, 9, 2, 2, 3]\n",
      "3\n",
      "6\n",
      "[1, 1, 2, 2, 2, 2, 3, 3, 5, 5, 7, 8, 9]\n",
      "[9, 8, 7, 5, 5, 3, 3, 2, 2, 2, 2, 1, 1]\n"
     ]
    }
   ],
   "source": [
    "### Adds to the end\n",
    "erosionClass.append(2)\n",
    "print(erosionClass)\n",
    "\n",
    "### Counts the number of occurences\n",
    "print(erosionClass.count(5))\n",
    "\n",
    "### Inserts the number to at the 8th index\n",
    "erosionClass.insert(2, 8)\n",
    "print(erosionClass)\n",
    "\n",
    "### Adds to the list\n",
    "erosionClass.extend([2, 3, 4])\n",
    "print(erosionClass)\n",
    "\n",
    "### Removes the value\n",
    "erosionClass.remove(4)\n",
    "print(erosionClass)\n",
    "\n",
    "### Identifies what is third in the list\n",
    "print(erosionClass.index(2))\n",
    "\n",
    "### Removes the last item in the list\n",
    "print(erosionClass.pop(8))\n",
    "\n",
    "### Sorts the list\n",
    "erosionClass.sort()\n",
    "print(erosionClass)\n",
    "\n",
    "### Reverses the list\n",
    "erosionClass.reverse()\n",
    "print(erosionClass)"
   ]
  },
  {
   "cell_type": "code",
   "execution_count": null,
   "metadata": {},
   "outputs": [],
   "source": []
  }
 ],
 "metadata": {
  "kernelspec": {
   "display_name": "ArcGISPro",
   "language": "Python",
   "name": "python3"
  },
  "language_info": {
   "file_extension": ".py",
   "name": "python",
   "version": "3"
  }
 },
 "nbformat": 4,
 "nbformat_minor": 2
}
