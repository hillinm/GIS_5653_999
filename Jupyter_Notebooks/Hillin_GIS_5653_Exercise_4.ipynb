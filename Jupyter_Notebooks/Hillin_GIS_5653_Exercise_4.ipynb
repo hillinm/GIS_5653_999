{
 "cells": [
  {
   "cell_type": "markdown",
   "metadata": {},
   "source": [
    "# 1. Section - Write Functions:"
   ]
  },
  {
   "cell_type": "code",
   "execution_count": 8,
   "metadata": {},
   "outputs": [
    {
     "name": "stdout",
     "output_type": "stream",
     "text": [
      "Good morning, Mark!\n",
      "Guten Morgen, Mark!\n",
      "Salve, Mark!\n"
     ]
    }
   ],
   "source": [
    "def greetEnglish(name):\n",
    "    \"\"\"Returns a good morning greeting in English.\"\"\"\n",
    "    print(\"Good morning, \" + str(name) + \"!\")\n",
    "    \n",
    "greetEnglish(\"Mark\")\n",
    "\n",
    "def greetGerman(name):\n",
    "    \"\"\"Returns a good morning greeting in German.\"\"\"\n",
    "    print(f\"Guten Morgen, {name}!\")\n",
    "    \n",
    "greetGerman(\"Mark\")\n",
    "\n",
    "def greetLatin(name):\n",
    "    \"\"\"Returns a good morning greeting in Latin.\"\"\"\n",
    "    print(\"Salve, {}!\".format(name))\n",
    "    \n",
    "greetLatin(\"Mark\")"
   ]
  },
  {
   "cell_type": "markdown",
   "metadata": {},
   "source": [
    "# 2. Section - Modules:"
   ]
  },
  {
   "cell_type": "code",
   "execution_count": 9,
   "metadata": {},
   "outputs": [
    {
     "name": "stdout",
     "output_type": "stream",
     "text": [
      "Good morning, Mark!\n",
      "Guten Morgen, Mark!\n",
      "Salve, Mark!\n"
     ]
    }
   ],
   "source": [
    "myPythonModules = r'C:\\Users\\Mark Hillin\\OneDrive\\Desktop\\GIS_5653_999\\Jupyter_Notebooks'\n",
    "sys.path.append(myPythonModules)\n",
    "import greetings # a Python file within myPythonModules\n",
    "\n",
    "greetings.greetEnglish(\"Mark\")\n",
    "greetings.greetGerman(\"Mark\")\n",
    "greetings.greetLatin(\"Mark\")"
   ]
  },
  {
   "cell_type": "markdown",
   "metadata": {},
   "source": [
    "# 3. Section - Built-in functions:"
   ]
  },
  {
   "cell_type": "code",
   "execution_count": 18,
   "metadata": {},
   "outputs": [
    {
     "name": "stdout",
     "output_type": "stream",
     "text": [
      "Average:  9.0\n"
     ]
    }
   ],
   "source": [
    "numbers = [3, 6, 9, 12, 15]\n",
    "average = sum(numbers) / len(numbers)\n",
    "    \n",
    "print(\"Average: \", average)"
   ]
  },
  {
   "cell_type": "code",
   "execution_count": null,
   "metadata": {},
   "outputs": [],
   "source": []
  }
 ],
 "metadata": {
  "kernelspec": {
   "display_name": "ArcGISPro",
   "language": "Python",
   "name": "python3"
  },
  "language_info": {
   "file_extension": ".py",
   "name": "python",
   "version": "3"
  }
 },
 "nbformat": 4,
 "nbformat_minor": 2
}
